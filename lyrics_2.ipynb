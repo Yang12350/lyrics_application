{
 "cells": [
  {
   "cell_type": "markdown",
   "metadata": {},
   "source": [
    "# PART2 : 以 jieba 探索文本主題 (歌詞文本)"
   ]
  },
  {
   "cell_type": "code",
   "execution_count": 1,
   "metadata": {},
   "outputs": [],
   "source": [
    "import matplotlib.pyplot as plt\n",
    "import numpy as np\n",
    "import jieba.analyse\n",
    "import jieba\n",
    "import codecs"
   ]
  },
  {
   "cell_type": "markdown",
   "metadata": {},
   "source": [
    "## 資料前處理"
   ]
  },
  {
   "cell_type": "code",
   "execution_count": 2,
   "metadata": {},
   "outputs": [
    {
     "name": "stderr",
     "output_type": "stream",
     "text": [
      "Building prefix dict from /Users/youngmihuang/Desktop/PyLadies/jieba_dict/dict.txt.big ...\n",
      "Loading model from cache /var/folders/c6/vq7n4xz94bqdm56d8hb739kr0000gn/T/jieba.u61de2cbc86a45c8f420ba10366a9081d.cache\n",
      "Loading model cost 2.415 seconds.\n",
      "Prefix dict has been built succesfully.\n"
     ]
    }
   ],
   "source": [
    "# 斷詞存成文件\n",
    "jieba.set_dictionary(\"jieba_dict/dict.txt.big\")\n",
    "\n",
    "wf = codecs.open(\"lyrics/lyrics_cut_mayday.dataset\", \"w\",\"utf-8\")\n",
    "with open(\"lyrics/mayday.txt\", \"r\") as f:\n",
    "    for line in f:\n",
    "        words = jieba.cut(line)\n",
    "        wf.write(\" \".join(words))\n",
    "        #print(\" \".join(words))\n",
    "wf.close()    "
   ]
  },
  {
   "cell_type": "code",
   "execution_count": null,
   "metadata": {
    "scrolled": true
   },
   "outputs": [],
   "source": [
    "# 查看：斷詞前處理\n",
    "with open(\"lyrics/lyrics_cut_mayday.dataset\") as fn:\n",
    "    for line in fn:\n",
    "        print(line)"
   ]
  },
  {
   "cell_type": "code",
   "execution_count": 3,
   "metadata": {},
   "outputs": [],
   "source": [
    "# 載入同義字\n",
    "word_net = []\n",
    "with open(\"lyrics/word_net.txt\", \"r\") as f1:\n",
    "    for line in f1:\n",
    "        word_net.append(line)\n",
    "\n",
    "word_net = sorted(set(word_net))\n",
    "word_net_dic = {}\n",
    "\n",
    "for word in word_net:\n",
    "    word_s = word.split()\n",
    "    word_net_dic[word_s[0]] = word_s[1]\n"
   ]
  },
  {
   "cell_type": "markdown",
   "metadata": {},
   "source": [
    "### 將斷好詞的檔案讀進來，如果字詞有出現在 word_net當中，則替換成同義字；若無，則保留原本字義"
   ]
  },
  {
   "cell_type": "code",
   "execution_count": 4,
   "metadata": {},
   "outputs": [],
   "source": [
    "# 將資料處理後的檔案存檔\n",
    "wf = open(\"lyrics/lyrics_word_net_mayday.dataset\", \"w\")\n",
    "\n",
    "with open(\"lyrics/lyrics_cut_mayday.dataset\", \"r\") as f2:\n",
    "    for line in f2:\n",
    "        line_words = line.split()\n",
    "        line_lyrics = \"\"\n",
    "        for line_word in line_words:\n",
    "            if line_word in word_net_dic:\n",
    "                line_lyrics = line_lyrics + word_net_dic[line_word] + ' '\n",
    "            else:\n",
    "                line_lyrics = line_lyrics + line_word + ' '\n",
    "        #print(line_lyrics+\"\\n\")\n",
    "        wf.write(line_lyrics+\"\\n\")\n",
    "\n",
    "wf.close()"
   ]
  },
  {
   "cell_type": "markdown",
   "metadata": {},
   "source": [
    "# 主題建模開始\n",
    "## 1. 語料庫與向量空間 ( Corpora and Vector Spaces )"
   ]
  },
  {
   "cell_type": "code",
   "execution_count": 5,
   "metadata": {},
   "outputs": [
    {
     "name": "stderr",
     "output_type": "stream",
     "text": [
      "2017-11-04 22:03:40,018 : INFO : 'pattern' package not found; tag filters are not available for English\n"
     ]
    }
   ],
   "source": [
    "# see logging events\n",
    "import logging\n",
    "logging.basicConfig(format='%(asctime)s : %(levelname)s : %(message)s', level=logging.INFO)\n",
    "import os\n",
    "from gensim import corpora, models, similarities\n",
    "#from six import iteritems"
   ]
  },
  {
   "cell_type": "code",
   "execution_count": 6,
   "metadata": {},
   "outputs": [
    {
     "name": "stderr",
     "output_type": "stream",
     "text": [
      "2017-11-04 22:03:46,989 : INFO : adding document #0 to Dictionary(0 unique tokens: [])\n",
      "2017-11-04 22:03:47,006 : INFO : built Dictionary(2221 unique tokens: ['會', '不會', '有', '一天', '時間']...) from 36 documents (total 8333 corpus positions)\n",
      "2017-11-04 22:03:47,015 : INFO : saving Dictionary object under lyrics/lyrics_mayday.dict, separately None\n",
      "2017-11-04 22:03:47,019 : INFO : saved lyrics/lyrics_mayday.dict\n"
     ]
    }
   ],
   "source": [
    "# 移除常見字\n",
    "with open(\"lyrics/stop_words.txt\") as f:\n",
    "    stop_word_content = f.readlines()\n",
    "stop_word_content = [x.strip() for x in stop_word_content] #strip: 移除頭尾空格、中間不會\n",
    "stop_word_content = \" \".join(stop_word_content)\n",
    "\n",
    "# 建立本次文檔的語料庫(字典)\n",
    "# 將文檔裡的詞袋給予編號\n",
    "dictionary = corpora.Dictionary(document.split() for document in open(\"lyrics/lyrics_word_net_mayday.dataset\"))\n",
    "stoplist = set(stop_word_content.split())\n",
    "stop_ids = [dictionary.token2id[stopword] for stopword in stoplist\n",
    "            if stopword in dictionary.token2id] #dictionary.token2id: 代表什麼字詞對應到什麼id，有幾個id就代表有幾維向量空間\n",
    "dictionary.filter_tokens(stop_ids) # 移除停用字\n",
    "dictionary.compactify() #remove faps in id sequence after worfs that were removed\n",
    "dictionary.save(\"lyrics/lyrics_mayday.dict\")\n",
    "\n"
   ]
  },
  {
   "cell_type": "code",
   "execution_count": null,
   "metadata": {},
   "outputs": [],
   "source": [
    "# 查看：序列化的結果\n",
    "for word,index in dictionary.token2id.items(): \n",
    "    print(word +\" id:\"+ str(index))"
   ]
  },
  {
   "cell_type": "code",
   "execution_count": 7,
   "metadata": {},
   "outputs": [
    {
     "name": "stderr",
     "output_type": "stream",
     "text": [
      "2017-11-04 22:03:53,327 : INFO : storing corpus in Matrix Market format to lyrics/lyrics_mayday.mm\n",
      "2017-11-04 22:03:53,329 : INFO : saving sparse matrix to lyrics/lyrics_mayday.mm\n",
      "2017-11-04 22:03:53,330 : INFO : PROGRESS: saving document #0\n",
      "2017-11-04 22:03:53,352 : INFO : saved 36x2213 matrix, density=5.141% (4096/79668)\n",
      "2017-11-04 22:03:53,354 : INFO : saving MmCorpus index to lyrics/lyrics_mayday.mm.index\n"
     ]
    }
   ],
   "source": [
    "texts = [[word for word in document.split() if word not in stoplist]\n",
    "         for document in open(\"lyrics/lyrics_word_net_mayday.dataset\")]\n",
    "\n",
    "# 移除只出現一次的字詞\n",
    "# from collections import defaultdict\n",
    "# frequency = defaultdict(int)\n",
    "# for text in texts:\n",
    "#     for token in text:\n",
    "#         frequency[token] += 1\n",
    "\n",
    "# texts = [[token for token in text if frequency[token] > 1]\n",
    "#          for text in texts]\n",
    "\n",
    "# 將 corpus 序列化\n",
    "corpus = [dictionary.doc2bow(text) for text in texts]\n",
    "corpora.MmCorpus.serialize(\"lyrics/lyrics_mayday.mm\", corpus) # Corpus in Matrix Market format \n",
    "# 其他序列化方法：Other formats include Joachim’s SVMlight format, Blei’s LDA-C format and GibbsLDA++ format."
   ]
  },
  {
   "cell_type": "markdown",
   "metadata": {},
   "source": [
    "## 2. tf — idf 轉換 與 創建 LSI 模型 （Topics and Transformations）\n",
    "- ### tfidf \n",
    "- ### 透過 tfidf 創建 LSI 模型"
   ]
  },
  {
   "cell_type": "code",
   "execution_count": 8,
   "metadata": {},
   "outputs": [
    {
     "name": "stderr",
     "output_type": "stream",
     "text": [
      "2017-11-04 22:03:56,544 : INFO : loading Dictionary object from lyrics/lyrics_mayday.dict\n",
      "2017-11-04 22:03:56,548 : INFO : loaded lyrics/lyrics_mayday.dict\n",
      "2017-11-04 22:03:56,549 : INFO : loaded corpus index from lyrics/lyrics_mayday.mm.index\n",
      "2017-11-04 22:03:56,550 : INFO : initializing corpus reader from lyrics/lyrics_mayday.mm\n",
      "2017-11-04 22:03:56,552 : INFO : accepted corpus with 36 documents, 2213 features, 4096 non-zero entries\n"
     ]
    },
    {
     "name": "stdout",
     "output_type": "stream",
     "text": [
      "Used files generated from first tutorial\n"
     ]
    }
   ],
   "source": [
    "# 載入語料庫\n",
    "if (os.path.exists(\"lyrics/lyrics_mayday.dict\")):\n",
    "    dictionary = corpora.Dictionary.load(\"lyrics/lyrics_mayday.dict\")\n",
    "    corpus = corpora.MmCorpus(\"lyrics/lyrics_mayday.mm\") # 將數據流的語料變為內容流的語料\n",
    "    print(\"Used files generated from first tutorial\")\n",
    "else:\n",
    "    print(\"Please run first tutorial to generate data set\")"
   ]
  },
  {
   "cell_type": "code",
   "execution_count": 9,
   "metadata": {},
   "outputs": [
    {
     "name": "stderr",
     "output_type": "stream",
     "text": [
      "2017-11-04 22:03:59,683 : INFO : collecting document frequencies\n",
      "2017-11-04 22:03:59,686 : INFO : PROGRESS: processing document #0\n",
      "2017-11-04 22:03:59,704 : INFO : calculating IDF weights for 36 documents and 2212 features (4096 matrix non-zeros)\n"
     ]
    }
   ],
   "source": [
    "# 創建 tfidf model\n",
    "tfidf = models.TfidfModel(corpus)\n",
    "# 轉為向量表示\n",
    "corpus_tfidf = tfidf[corpus]"
   ]
  },
  {
   "cell_type": "markdown",
   "metadata": {},
   "source": [
    "### 建立lsi模型的時候：需要給定tfidf生成的語料庫(corpus: lyrics.mm)、給定字典(dictionary: lyrics.dict)、和制定主題數"
   ]
  },
  {
   "cell_type": "code",
   "execution_count": 10,
   "metadata": {},
   "outputs": [
    {
     "name": "stderr",
     "output_type": "stream",
     "text": [
      "2017-11-04 22:04:03,299 : INFO : using serial LSI version on this node\n",
      "2017-11-04 22:04:03,301 : INFO : updating model with new documents\n",
      "2017-11-04 22:04:03,333 : INFO : preparing a new chunk of documents\n",
      "2017-11-04 22:04:03,338 : INFO : using 100 extra samples and 2 power iterations\n",
      "2017-11-04 22:04:03,339 : INFO : 1st phase: constructing (2213, 110) action matrix\n",
      "2017-11-04 22:04:03,341 : INFO : orthonormalizing (2213, 110) action matrix\n",
      "2017-11-04 22:04:03,482 : INFO : 2nd phase: running dense svd on (110, 36) matrix\n",
      "2017-11-04 22:04:03,485 : INFO : computing the final decomposition\n",
      "2017-11-04 22:04:03,486 : INFO : keeping 10 factors (discarding 65.952% of energy spectrum)\n",
      "2017-11-04 22:04:03,490 : INFO : processed documents up to #36\n",
      "2017-11-04 22:04:03,492 : INFO : topic #0(1.432): 0.204*\"噢\" + 0.132*\"一次\" + 0.127*\"我倆\" + 0.113*\"一天\" + 0.106*\"兄弟\" + 0.105*\"著\" + 0.105*\"最\" + 0.098*\"這\" + 0.096*\"和\" + 0.094*\"在\"\n",
      "2017-11-04 22:04:03,493 : INFO : topic #1(1.163): 0.725*\"噢\" + 0.282*\"兄弟\" + 0.130*\"oh\" + 0.123*\"一次\" + 0.103*\"唔\" + -0.089*\"最\" + -0.088*\"突然\" + 0.081*\"最好\" + 0.079*\"一個\" + 0.074*\"這樣\"\n",
      "2017-11-04 22:04:03,494 : INFO : topic #2(1.097): -0.194*\"決定\" + -0.187*\"動次\" + -0.186*\"oh\" + -0.171*\"love\" + -0.133*\"ing\" + -0.128*\"真正\" + 0.125*\"我倆\" + -0.119*\"無望\" + 0.112*\"任意\" + 0.109*\"無限\"\n",
      "2017-11-04 22:04:03,496 : INFO : topic #3(1.074): 0.367*\"oh\" + 0.242*\"動次\" + -0.213*\"love\" + -0.177*\"無望\" + -0.146*\"ing\" + 0.141*\"突然\" + -0.128*\"路\" + -0.118*\"I\" + -0.118*\"這款\" + -0.118*\"法度\"\n",
      "2017-11-04 22:04:03,497 : INFO : topic #4(1.066): 0.256*\"oh\" + -0.200*\"一次\" + 0.199*\"love\" + -0.198*\"倔強\" + 0.192*\"動次\" + 0.172*\"ing\" + -0.163*\"啦\" + 0.111*\"無望\" + 0.104*\"噢\" + -0.102*\"自己\"\n",
      "2017-11-04 22:04:03,499 : INFO : saving Projection object under lyrics/lyrics_mayday.lsi.projection, separately None\n",
      "2017-11-04 22:04:03,504 : INFO : saved lyrics/lyrics_mayday.lsi.projection\n",
      "2017-11-04 22:04:03,506 : INFO : saving LsiModel object under lyrics/lyrics_mayday.lsi, separately None\n",
      "2017-11-04 22:04:03,508 : INFO : not storing attribute projection\n",
      "2017-11-04 22:04:03,510 : INFO : not storing attribute dispatcher\n",
      "2017-11-04 22:04:03,513 : INFO : saved lyrics/lyrics_mayday.lsi\n",
      "2017-11-04 22:04:03,515 : INFO : storing corpus in Matrix Market format to lyrics/lsi_corpus_mayday.mm\n",
      "2017-11-04 22:04:03,517 : INFO : saving sparse matrix to lyrics/lsi_corpus_mayday.mm\n",
      "2017-11-04 22:04:03,560 : INFO : PROGRESS: saving document #0\n",
      "2017-11-04 22:04:03,565 : INFO : saved 36x10 matrix, density=100.000% (360/360)\n",
      "2017-11-04 22:04:03,567 : INFO : saving MmCorpus index to lyrics/lsi_corpus_mayday.mm.index\n",
      "2017-11-04 22:04:03,570 : INFO : topic #0(1.432): 0.204*\"噢\" + 0.132*\"一次\" + 0.127*\"我倆\" + 0.113*\"一天\" + 0.106*\"兄弟\" + 0.105*\"著\" + 0.105*\"最\" + 0.098*\"這\" + 0.096*\"和\" + 0.094*\"在\"\n",
      "2017-11-04 22:04:03,573 : INFO : topic #1(1.163): 0.725*\"噢\" + 0.282*\"兄弟\" + 0.130*\"oh\" + 0.123*\"一次\" + 0.103*\"唔\" + -0.089*\"最\" + -0.088*\"突然\" + 0.081*\"最好\" + 0.079*\"一個\" + 0.074*\"這樣\"\n",
      "2017-11-04 22:04:03,575 : INFO : topic #2(1.097): -0.194*\"決定\" + -0.187*\"動次\" + -0.186*\"oh\" + -0.171*\"love\" + -0.133*\"ing\" + -0.128*\"真正\" + 0.125*\"我倆\" + -0.119*\"無望\" + 0.112*\"任意\" + 0.109*\"無限\"\n",
      "2017-11-04 22:04:03,625 : INFO : topic #3(1.074): 0.367*\"oh\" + 0.242*\"動次\" + -0.213*\"love\" + -0.177*\"無望\" + -0.146*\"ing\" + 0.141*\"突然\" + -0.128*\"路\" + -0.118*\"I\" + -0.118*\"這款\" + -0.118*\"法度\"\n",
      "2017-11-04 22:04:03,627 : INFO : topic #4(1.066): 0.256*\"oh\" + -0.200*\"一次\" + 0.199*\"love\" + -0.198*\"倔強\" + 0.192*\"動次\" + 0.172*\"ing\" + -0.163*\"啦\" + 0.111*\"無望\" + 0.104*\"噢\" + -0.102*\"自己\"\n"
     ]
    },
    {
     "name": "stdout",
     "output_type": "stream",
     "text": [
      "LSI topics:\n"
     ]
    },
    {
     "data": {
      "text/plain": [
       "[(0,\n",
       "  '0.204*\"噢\" + 0.132*\"一次\" + 0.127*\"我倆\" + 0.113*\"一天\" + 0.106*\"兄弟\" + 0.105*\"著\" + 0.105*\"最\" + 0.098*\"這\" + 0.096*\"和\" + 0.094*\"在\"'),\n",
       " (1,\n",
       "  '0.725*\"噢\" + 0.282*\"兄弟\" + 0.130*\"oh\" + 0.123*\"一次\" + 0.103*\"唔\" + -0.089*\"最\" + -0.088*\"突然\" + 0.081*\"最好\" + 0.079*\"一個\" + 0.074*\"這樣\"'),\n",
       " (2,\n",
       "  '-0.194*\"決定\" + -0.187*\"動次\" + -0.186*\"oh\" + -0.171*\"love\" + -0.133*\"ing\" + -0.128*\"真正\" + 0.125*\"我倆\" + -0.119*\"無望\" + 0.112*\"任意\" + 0.109*\"無限\"'),\n",
       " (3,\n",
       "  '0.367*\"oh\" + 0.242*\"動次\" + -0.213*\"love\" + -0.177*\"無望\" + -0.146*\"ing\" + 0.141*\"突然\" + -0.128*\"路\" + -0.118*\"I\" + -0.118*\"這款\" + -0.118*\"法度\"'),\n",
       " (4,\n",
       "  '0.256*\"oh\" + -0.200*\"一次\" + 0.199*\"love\" + -0.198*\"倔強\" + 0.192*\"動次\" + 0.172*\"ing\" + -0.163*\"啦\" + 0.111*\"無望\" + 0.104*\"噢\" + -0.102*\"自己\"')]"
      ]
     },
     "execution_count": 10,
     "metadata": {},
     "output_type": "execute_result"
    }
   ],
   "source": [
    "# 創建 LSI model\n",
    "lsi = models.LsiModel(corpus_tfidf, id2word=dictionary, num_topics=10)\n",
    "corpus_lsi = lsi[corpus_tfidf] # LSI潛在語義索引\n",
    "lsi.save('lyrics/lyrics_mayday.lsi')\n",
    "corpora.MmCorpus.serialize('lyrics/lsi_corpus_mayday.mm', corpus_lsi)\n",
    "print(\"LSI topics:\")\n",
    "lsi.print_topics(5)"
   ]
  },
  {
   "cell_type": "code",
   "execution_count": null,
   "metadata": {},
   "outputs": [],
   "source": [
    "# 查看：每一首歌在各主題的佔比計算\n",
    "for doc in corpus_lsi:\n",
    "    print(doc)"
   ]
  },
  {
   "cell_type": "markdown",
   "metadata": {},
   "source": [
    "## 3. 相似度計算 （Similarity interface）\n",
    "- ###  輸入歌曲\n",
    "- ###  建立索引\n",
    "- ###  相似歌曲輸出"
   ]
  },
  {
   "cell_type": "code",
   "execution_count": 11,
   "metadata": {},
   "outputs": [
    {
     "name": "stdout",
     "output_type": "stream",
     "text": [
      "[(0, 7.2705663600217516), (1, -2.7284780730200788), (2, -0.8223383837366246), (3, 2.1469048274926479), (4, -0.65830306598173516), (5, -3.901771775577473), (6, -2.5031445409605637), (7, 1.8386513217392493), (8, 1.7113198568988774), (9, 2.8521822914392785)]\n"
     ]
    }
   ],
   "source": [
    "# 基於tfidf-> lsi 的文本相似度分析\n",
    "doc = \"想 把 你 寫成 一首歌 想養 一隻 貓 想要 回到 每個 場景 撥慢 每 隻 錶 我們 在 小孩 和 大人 的 轉角 蓋 一座 城堡 我們 好好 好 到 瘋 掉 像 找回 失散多年 雙胞 生命 再長 不過 煙火 落下 了 眼角 世界 再大 不過 你 我 凝視 的 微笑 在 所有 流逝 風景 與 人群 中 你 對 我 最好 一切 好好 是否 太好 沒有 人 知道 你 和 我 背著 空空 的 書包 逃出 名為 日常 的 監牢 忘 了 要 長大 忘 了 要 變老 忘 了 時間 有腳 最 安靜 的 時刻 回憶 總是 最 喧囂 最 喧囂 的 狂歡 寂寞 包圍 著 孤島 還以 為 馴服 想念 能 陪伴 我 像 一隻 家貓 它 就 窩 在 沙發 一角 卻 不肯 睡著 你 和 我 曾 有 滿滿的 羽毛 跳 著名 為 青春 的 舞蹈 不 知道 未來 不 知道 煩惱 不知 那些 日子 會 是 那麼 少 時間 的 電影 結局 才 知道 原來 大人 已 沒有 童謠 最後 的 叮嚀 最後 的 擁抱 我們 紅著 眼笑 我們 都 要 把 自己 照顧 好 好 到 遺憾 無法 打擾 好好 的 生活 好好 的 變老 好好 假裝 我 已經 把 你 忘掉 \"\n",
    "vec_bow = dictionary.doc2bow(doc.split()) # 把doc語料庫轉為一個一個詞包\n",
    "vec_lsi = lsi[vec_bow] # 用前面建好的 lsi 模型去計算這一篇歌詞 (input: 斷詞後的詞包、output: 20個主題成分)\n",
    "print(vec_lsi)"
   ]
  },
  {
   "cell_type": "code",
   "execution_count": 12,
   "metadata": {},
   "outputs": [
    {
     "name": "stderr",
     "output_type": "stream",
     "text": [
      "2017-11-04 22:04:16,517 : WARNING : scanning corpus to determine the number of features (consider setting `num_features` explicitly)\n",
      "2017-11-04 22:04:16,541 : INFO : creating matrix with 36 documents and 10 features\n",
      "2017-11-04 22:04:16,568 : INFO : saving MatrixSimilarity object under lyrics/lyrics_mayday.index, separately None\n",
      "2017-11-04 22:04:16,570 : INFO : saved lyrics/lyrics_mayday.index\n"
     ]
    },
    {
     "name": "stdout",
     "output_type": "stream",
     "text": [
      "[(2, 0.99679214), (25, 0.87377143), (29, 0.84817392), (33, 0.67252529), (30, 0.66729981)]\n"
     ]
    }
   ],
   "source": [
    "# 建立索引\n",
    "index = similarities.MatrixSimilarity(lsi[corpus]) \n",
    "index.save(\"lyrics/lyrics_mayday.index\") \n",
    "\n",
    "# 計算相似度（前五名）\n",
    "sims = index[vec_lsi] \n",
    "sims = sorted(enumerate(sims), key=lambda item: -item[1])\n",
    "print(sims[:5])"
   ]
  },
  {
   "cell_type": "markdown",
   "metadata": {},
   "source": [
    "### 輸出：索引結果對應前五名相似歌詞"
   ]
  },
  {
   "cell_type": "code",
   "execution_count": 13,
   "metadata": {},
   "outputs": [
    {
     "name": "stdout",
     "output_type": "stream",
     "text": [
      "\n",
      "相似歌詞： 想 把 你 寫成 一首歌 想養 一隻 貓 想要 回到 每個 場景 撥慢 每 隻 錶 我倆 在 小孩 和 大人 的 轉角 蓋 一座 城堡 我倆 好好 好 到 瘋 掉 像 找回 失散多年 雙胞 生命 再長 不過 煙火 落下 了 眼角 世界 再大 不過 你 我 凝視 的 微笑 在 所有 流逝 風景 與 人群 中 你 對 我 最好 一切 好好 是否 太好 沒有 人 知道 你 和 我 背著 空蕩 的 書包 逃避 名為 日常 的 監牢 忘記 了 要 長大 忘記 了 要 變老 忘記 了 時間 有腳 最 安靜 的 時刻 回憶 總是 最 喧囂 最 喧囂 的 狂歡 孤單 包圍 著 孤島 還以 為 馴服 想 能 陪伴 我 像 一隻 家貓 它 就 窩 在 沙發 一角 卻 不肯 睡著 你 和 我 曾經 有 滿滿的 羽毛 跳 著名 為 青鳥 的 舞蹈 不 知道 未來 不 知道 煩惱 不知道 那些 日子 會 是 那麼 少 時間 的 電影 結果 才 知道 原來 大人 已經 沒有 童謠 最後 的 叮嚀 最後 的 擁抱 我倆 紅著 眼笑 我倆 都 要 把 自己 照顧 好 好 到 遺憾 無法 打擾 好好 的 生活 好好 的 變老 好好 假裝 我 已經 把 你 忘記 \n",
      "\n",
      "相似度： 0.996792\n",
      "\n",
      "相似歌詞： 轉眼 走到 了 自傳 最終 章 已經 瀏覽 所有 命運 的 風光 混濁 的 瞳孔 風乾 的 皮囊 也 曾經 那般 花漾 最愛 的 相片 讓 你 挑 一張 千萬個 片刻 誰 在 你 身邊 那 一年 的 我 曾經 和 你 一樣 飛揚 惶惶不安 念念不忘 還是 得 放開 雙掌 手心 曾握 著 誰 的 體溫 漸涼 有沒有 人 在 某個 地方 等 我 重回 當初 的 樣子 雙頰 曾經 光滑 夜色 曾沁涼 世界 曾經 瘋狂 愛情 曾經 綻放 有沒有 人 依偎 我 身邊 聽 我 傾訴 餘生 的 漫長 在 你 的 眼中 我 似乎 健忘 因為 我 腦海 已有 最 難忘 最難 忘記 在 我 的 時代 還有 唱片 行 如同 博物館 裝滿 了 希望 披頭 與 槍花 愛情 和 憂傷 永遠 驕傲 高唱 成就 如 沙堡 生命 如 海浪 浪花 會 掏盡 所有 的 幻象 存款 與 樓房 掙扎 與 渴望 散場 回憶 如窗 冷淚 盈眶 風景 模糊 如 天堂 孤單 的 大床 誰 貼近 我 臉頰 有沒有 人 也 笑憶 過往 跌跌撞撞 當初 的 蠢樣 最 平凡無奇 日子 最 卑微 夢想 何時 才 發現 最 值得 珍藏 有沒有 人 告訴 我 真相 時間 就是 最 巨大 的 謊 以為 的 日常 原來 是 無常 生命 的 具象 原來 只是 幻象 這是 我 自傳 最終 章 寫 這 首長 詩篇 用 一生 時光 軀殼 會 解脫 藥罐 和 空房 我 從 嬰兒 床 再 走 回 光芒 有沒有 人 知道 某種 秘方 不用 永生 只要 回憶 不 忘記 我 不怕 死亡 只 害怕 忘記 回憶 是 你 我 生存 的 地方 有沒有 人 知道 那個 地方 我能 回到 我 的 最愛 身邊 兒孫 們 都 忙 就讓 他們 忙 離開 的 時候 就當 我 飛翔 自由 飛翔 \n",
      "\n",
      "相似度： 0.873771\n",
      "\n",
      "相似歌詞： 走 在 風中 今天 陽光 突然 好 溫柔 天 的 溫柔 地 的 溫柔 像 你 抱 著 我 然後 發現 你 的 改變 孤單 的 今後 如果 冷 該 怎麼 度過 天邊 風光 身邊 的 我 都 不在 你 眼中 你 的 眼中 藏著 什麼 我 從來 都 不 懂 沒有 關係 你 的 世界 就讓 你 擁有 不 打擾 是 我 的 溫柔 不 知道 不明 瞭 不 想要 為 什麼 我 的 心 明明 是 想 靠近 卻 孤單 到 黎明 不 知道 不明 瞭 不 想要 為 什麼 我 的 心 那 愛情 的 綺麗 總是 在 孤單 裡 再 把 我 的 最好 的 愛給 你 不知不覺 不情 不願 又 到 巷子口 我 沒有 哭 也 沒有 笑 因為 這是 夢 沒有 預兆 沒有 理由 你 真的 有 說過 如果 有 就讓 你 自由 我給 你 自由 我給 你 自由 我給 你 自由 我給 你 自由 我給 你 全部 全部 全部 全部 自由 oh 這是 我 的 溫柔 這是 我 的 溫柔 還你 你 的 自由 還你 你 的 自由 oh 不 知道 不明 瞭 不 想要 為 什麼 我 的 心 明明 是 想 靠近 卻 孤單 到 黎明 不 知道 不明 瞭 不 想要 為 什麼 我 的 心 那 愛情 的 綺麗 總是 在 孤單 裡 再 把 我 的 最好 的 愛給 你 不知不覺 不情 不願 又 到 巷子口 我 沒有 哭 也 沒有 笑 因為 這是 夢 沒有 預兆 沒有 理由 你 真的 有 說過 如果 有 就讓 你 自由 自由 這是 我 的 溫柔 這是 我 的 溫柔 這是 我 的 溫柔 這是 我 的 溫柔 讓 你 自由 \n",
      "\n",
      "相似度： 0.848174\n",
      "\n",
      "相似歌詞： 志明 真正 不知道 要安 怎麼 為 什麼 情人 不願閣 再 相偎 春嬌 已經 早就 無 在 聽 講這多 其實 攏總 攏 無卡 抓 走 到 淡水 的 海岸 兩個 人 的 愛情 已經 無人 看 已經 無人 聽 我 跟 你 最好 就 到 這 你 對 我 已經 沒 感覺 到 這凍止 你 也 免愛我 我 跟 你 最好 就 到 這 你 對 我 已經 沒 感覺 麥閣 傷感 麥閣 我 這愛你 你 沒愛我 志明 心情 真正 有 影寒 風 這大 你 也 真正 攏 沒心肝 春嬌 你 哪無要 和 我播 這 齣 電影 咱 就 走 到 這位 準抵 煞 走 到 淡水 的 海岸 兩個 人 的 愛情 已經 無人 看 已經 無人 聽 我 跟 你 最好 就 到 這 你 對 我 已經 沒 感覺 到 這凍止 你 也 免愛我 我 跟 你 最好 就 到 這 你 對 我 已經 沒 感覺 麥閣 傷感 麥閣 我 這愛你 你 沒愛我 我 跟 你 最好 就 到 這 你 對 我 已經 沒 感覺 到 這凍止 你 也 免愛我 我 跟 你 最好 就 到 這 你 對 我 已經 沒 感覺 麥閣 傷感 麥閣 我 這愛你 你 沒愛我 我 跟 你 最好 就 到 這 \n",
      "\n",
      "相似度： 0.672525\n",
      "\n",
      "相似歌詞： 最 怕 空氣 突然 安靜 最 怕 朋友 突然 的 關心 最 怕 回憶 突然 翻滾 絞痛 著 不 平息 最 怕 突然 聽到 你 的 消息 想 如果 會 有 聲音 不願 那 是 悲傷 的 哭 事到如今 終於 讓 自己 屬於 我 自己 只 剩 淚水 還騙 不過 自己 突然 好想你 你 會 在 哪裡 過得 快樂 或者 委曲求全 突然 好想你 突然 鋒利 的 回憶 突然 模糊 的 眼睛 我倆 像 一首 最 美麗 的 歌謠 變成 兩部 悲傷 的 電影 為 什麼 你 帶 我 走過 最 難忘 的 旅行 然後 留下 最痛 的 紀念品 我倆 那麼 甜蜜 那麼 美 那麼 相信 那麼 瘋 那麼 熱烈 的 曾經 為何 我倆 還是 要 奔 向 各自 的 幸福 和 遺憾 中老去 突然 好想你 你 會 在 哪裡 過得 快樂 或者 委曲求全 突然 好想你 突然 鋒利 的 回憶 突然 模糊 的 眼睛 最 怕 空氣 突然 安靜 最 怕 朋友 突然 的 關心 最 怕 回憶 突然 翻滾 絞痛 著 不 平息 最 怕 突然 聽到 你 的 消息 最 怕 此生 已經 決心 自己 過 沒有 你 卻 又 突然 聽到 你 的 消息 \n",
      "\n",
      "相似度： 0.6673\n"
     ]
    }
   ],
   "source": [
    "lyrics = [];\n",
    "fp = open(\"lyrics/lyrics_word_net_mayday.dataset\") # 斷詞後的歌詞\n",
    "#fp = open(\"lyrics/lyrics.dataset\") # 看完整的歌詞\n",
    "for i, line in enumerate(fp):\n",
    "    lyrics.append(line)\n",
    "fp.close()\n",
    "\n",
    "for lyric in sims[:5]:\n",
    "    print(\"\\n相似歌詞：\",  lyrics[lyric[0]])\n",
    "    print(\"相似度：\",  lyric[1])"
   ]
  },
  {
   "cell_type": "markdown",
   "metadata": {},
   "source": [
    "## --END"
   ]
  },
  {
   "cell_type": "markdown",
   "metadata": {},
   "source": [
    "### --補充：將 LSI 模型改為 LDA 模型實作"
   ]
  },
  {
   "cell_type": "code",
   "execution_count": null,
   "metadata": {},
   "outputs": [],
   "source": [
    "# 創建 LDA model\n",
    "lda = models.LdaModel(corpus_tfidf, id2word=dictionary, num_topics=20)\n",
    "corpus_lda = lda[corpus_tfidf] # LDA潛在語義索引\n",
    "lda.save('lyrics/lyrics_mayday.lda')\n",
    "corpora.MmCorpus.serialize('lyrics/lda_corpus_mayday.mm', corpus_lda)\n",
    "print(\"LDA topics:\")\n",
    "lda.print_topics(4)"
   ]
  },
  {
   "cell_type": "code",
   "execution_count": null,
   "metadata": {},
   "outputs": [],
   "source": [
    "index = similarities.MatrixSimilarity(lda[corpus]) \n",
    "index.save(\"lyrics/lyrics_mayday.index\") \n",
    "\n",
    "# 基於tfidf-> lda 的文本相似度分析\n",
    "doc = \"想 把 你 寫成 一首歌 想養 一隻 貓 想要 回到 每個 場景 撥慢 每 隻 錶 我們 在 小孩 和 大人 的 轉角 蓋 一座 城堡 我們 好好 好 到 瘋 掉 像 找回 失散多年 雙胞 生命 再長 不過 煙火 落下 了 眼角 世界 再大 不過 你 我 凝視 的 微笑 在 所有 流逝 風景 與 人群 中 你 對 我 最好 一切 好好 是否 太好 沒有 人 知道 你 和 我 背著 空空 的 書包 逃出 名為 日常 的 監牢 忘 了 要 長大 忘 了 要 變老 忘 了 時間 有腳 最 安靜 的 時刻 回憶 總是 最 喧囂 最 喧囂 的 狂歡 寂寞 包圍 著 孤島 還以 為 馴服 想念 能 陪伴 我 像 一隻 家貓 它 就 窩 在 沙發 一角 卻 不肯 睡著 你 和 我 曾 有 滿滿的 羽毛 跳 著名 為 青春 的 舞蹈 不 知道 未來 不 知道 煩惱 不知 那些 日子 會 是 那麼 少 時間 的 電影 結局 才 知道 原來 大人 已 沒有 童謠 最後 的 叮嚀 最後 的 擁抱 我們 紅著 眼笑 我們 都 要 把 自己 照顧 好 好 到 遺憾 無法 打擾 好好 的 生活 好好 的 變老 好好 假裝 我 已經 把 你 忘掉 \"\n",
    "vec_bow = dictionary.doc2bow(doc.split()) # 把doc語料庫轉為一個一個詞包\n",
    "vec_lda = lda[vec_bow] # 用前面建好的 lsi 去計算這一篇歌詞\n",
    "\n",
    "sims = index[vec_lda] # 將已經算完tfidf的字詞轉為lsi #基於lsi的文本相似度分析\n",
    "sims = sorted(enumerate(sims), key=lambda item: -item[1])\n",
    "print(sims[:5])"
   ]
  },
  {
   "cell_type": "code",
   "execution_count": null,
   "metadata": {},
   "outputs": [],
   "source": [
    "lyrics = [];\n",
    "fp = open(\"lyrics/lyrics_word_net_mayday.dataset\") # 斷詞後的歌詞\n",
    "#fp = open(\"lyrics/lyrics.dataset\") ＃ 看完整的歌詞\n",
    "for i, line in enumerate(fp):\n",
    "    lyrics.append(line)\n",
    "fp.close()\n",
    "\n",
    "for lyric in sims[:5]:\n",
    "    print(\"\\n相似歌詞：\",  lyrics[lyric[0]])\n",
    "    print(\"相似度：\",  lyric[1])"
   ]
  }
 ],
 "metadata": {
  "kernelspec": {
   "display_name": "pyenv3",
   "language": "python",
   "name": "pyenv3"
  },
  "language_info": {
   "codemirror_mode": {
    "name": "ipython",
    "version": 3
   },
   "file_extension": ".py",
   "mimetype": "text/x-python",
   "name": "python",
   "nbconvert_exporter": "python",
   "pygments_lexer": "ipython3",
   "version": "3.6.3"
  }
 },
 "nbformat": 4,
 "nbformat_minor": 2
}
